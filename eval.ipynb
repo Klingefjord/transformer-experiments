{
 "cells": [
  {
   "cell_type": "code",
   "execution_count": 2,
   "metadata": {},
   "outputs": [],
   "source": [
    "import argparse\n",
    "from itertools import cycle\n",
    "import torch\n",
    "import typing\n",
    "import pandas as pd\n",
    "from torch.utils.data import DataLoader, Dataset, IterableDataset, random_split\n",
    "import numpy as np\n",
    "from encoder import Encoder, create_encoder\n",
    "from typing import Generator\n",
    "from model import GPTTransformer\n",
    "from utils import Config\n",
    "from data import prepare_data\n",
    "import torch.nn.functional as F"
   ]
  },
  {
   "cell_type": "markdown",
   "metadata": {},
   "source": [
    "# Load Model"
   ]
  },
  {
   "cell_type": "code",
   "execution_count": 8,
   "metadata": {},
   "outputs": [],
   "source": [
    "# create the encoder\n",
    "encoder = create_encoder(\"./data/pg16457.txt\", 1000)\n",
    "\n",
    "# create the config\n",
    "config = Config(\n",
    "    epoch=25,\n",
    "    learning_rate=1e-3,\n",
    "    batch_size=512,\n",
    "    weight_decay=1e-5,\n",
    "    seq_len=64,\n",
    "    d_embed=128,\n",
    "    n_layers=2,\n",
    "    n_heads=2,\n",
    "    dropout=0.2,\n",
    "    vocab_size=len(encoder.encoder),\n",
    ")\n",
    "\n",
    "# load the model from the last checkpoint\n",
    "model = GPTTransformer.load_from_checkpoint(\"./transformer-experiments/1ztscjc9/checkpoints/epoch=24-step=675.ckpt\", config=config)\n",
    "\n"
   ]
  },
  {
   "cell_type": "code",
   "execution_count": 9,
   "metadata": {},
   "outputs": [
    {
     "name": "stdout",
     "output_type": "stream",
     "text": [
      "The e e e e e e e e e e e e e e e e e e e e e e e e e e e e e e e e e e e e e e e e e e e e e e e e e e e e e e e e e e e e e e e e e e e e e e e e e e e e e e e e e e e e e e e e e e e e e e e e e e e e\n"
     ]
    }
   ],
   "source": [
    "@torch.no_grad()\n",
    "def generate(model, idx, config, max_new_tokens, temperature=1.0, do_sample=False, top_k=None):\n",
    "    \"\"\"\n",
    "    Take a conditioning sequence of indices idx (LongTensor of shape (b,t)) and complete\n",
    "    the sequence max_new_tokens times, feeding the predictions back into the model each time.\n",
    "    Most likely you'll want to make sure to be in model.eval() mode of operation for this.\n",
    "    \"\"\"\n",
    "    for _ in range(max_new_tokens):\n",
    "        # if the sequence context is growing too long we must crop it at block_size\n",
    "        idx_cond = idx if idx.size(1) <= config.seq_len else idx[:, -config.seq_len :]\n",
    "        # forward the model to get the logits for the index in the sequence\n",
    "        logits = model(idx_cond)\n",
    "        # pluck the logits at the final step and scale by desired temperature\n",
    "        logits = logits[:, -1, :] / temperature\n",
    "        # optionally crop the logits to only the top k options\n",
    "        if top_k is not None:\n",
    "            v, _ = torch.topk(logits, top_k)\n",
    "            logits[logits < v[:, [-1]]] = -float(\"Inf\")\n",
    "        # apply softmax to convert logits to (normalized) probabilities\n",
    "        probs = F.softmax(logits, dim=-1)\n",
    "        # either sample from the distribution or take the most likely element\n",
    "        if do_sample:\n",
    "            idx_next = torch.multinomial(probs, num_samples=1)\n",
    "        else:\n",
    "            _, idx_next = torch.topk(probs, k=1, dim=-1)\n",
    "        # append sampled index to the running sequence and continue\n",
    "        idx = torch.cat((idx, idx_next), dim=1)\n",
    "    return idx\n",
    "\n",
    "output = generate(model, torch.tensor([[1, 2]]), config, 100)\n",
    "text = encoder.decode(output.squeeze().tolist())\n",
    "print(text)"
   ]
  },
  {
   "cell_type": "code",
   "execution_count": null,
   "metadata": {},
   "outputs": [],
   "source": []
  }
 ],
 "metadata": {
  "kernelspec": {
   "display_name": "Python 3.9.2 64-bit",
   "language": "python",
   "name": "python3"
  },
  "language_info": {
   "codemirror_mode": {
    "name": "ipython",
    "version": 3
   },
   "file_extension": ".py",
   "mimetype": "text/x-python",
   "name": "python",
   "nbconvert_exporter": "python",
   "pygments_lexer": "ipython3",
   "version": "3.9.2"
  },
  "orig_nbformat": 4,
  "vscode": {
   "interpreter": {
    "hash": "31f2aee4e71d21fbe5cf8b01ff0e069b9275f58929596ceb00d14d90e3e16cd6"
   }
  }
 },
 "nbformat": 4,
 "nbformat_minor": 2
}
