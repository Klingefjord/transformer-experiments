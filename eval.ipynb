{
 "cells": [
  {
   "cell_type": "code",
   "execution_count": 1,
   "metadata": {},
   "outputs": [],
   "source": [
    "import torch\n",
    "from tokenizer import create_tokenizer\n",
    "from model import GPTTransformer\n",
    "from utils import Config\n",
    "import torch.nn.functional as F"
   ]
  },
  {
   "cell_type": "markdown",
   "metadata": {},
   "source": [
    "# Load Model"
   ]
  },
  {
   "cell_type": "code",
   "execution_count": 3,
   "metadata": {},
   "outputs": [
    {
     "name": "stdout",
     "output_type": "stream",
     "text": [
      "number of parameters: 5.52M\n"
     ]
    }
   ],
   "source": [
    "# create the encoder\n",
    "tokenizer = create_tokenizer(\"./data/dostoyevsky.vocab\", \"./data/dostoyevsky.bpe\")\n",
    "\n",
    "# create the config\n",
    "config = Config(\n",
    "    epoch=1,\n",
    "    learning_rate=1e-3,\n",
    "    batch_size=64,\n",
    "    weight_decay=1e-5,\n",
    "    seq_len=128,\n",
    "    d_embed=192,\n",
    "    n_layers=6,\n",
    "    n_heads=6,\n",
    "    dropout=0.1,\n",
    "    vocab_size=len(tokenizer.encoder),\n",
    ")\n",
    "\n",
    "# load the model from the last checkpoint\n",
    "model = GPTTransformer.load_from_checkpoint(\"./dostoyevsky/3q0vztkc/checkpoints/epoch=4-step=15220.ckpt\", config=config)"
   ]
  },
  {
   "cell_type": "code",
   "execution_count": 4,
   "metadata": {},
   "outputs": [
    {
     "name": "stdout",
     "output_type": "stream",
     "text": [
      "Generating dostoyevsky samples...\n"
     ]
    },
    {
     "data": {
      "text/plain": [
       "'Hellosblaecind ssthe ppis\\n--------------------------------------------------------------------------------\\n'"
      ]
     },
     "execution_count": 4,
     "metadata": {},
     "output_type": "execute_result"
    }
   ],
   "source": [
    "model.generate_samples('Hello', )"
   ]
  },
  {
   "cell_type": "code",
   "execution_count": 5,
   "metadata": {},
   "outputs": [
    {
     "name": "stdout",
     "output_type": "stream",
     "text": [
      "tensor([[ 72, 101, 108, 108, 111,  32, 116, 104, 101, 114, 101,  32, 116, 104,\n",
      "         101,  32, 116, 104, 101,  32, 116, 104, 101,  32, 116, 104, 101,  32,\n",
      "         116, 104, 101,  32, 116, 104, 101,  32, 116, 104, 101,  32, 116, 104,\n",
      "         101,  32, 116, 104, 101,  32, 116, 104, 101,  32, 116, 104, 101,  32,\n",
      "         116, 104, 101,  32, 116, 104, 101,  32, 116, 104, 101,  10, 116, 104,\n",
      "         101,  32, 116, 104, 101,  32]])\n",
      "Hello there the the the the the the the the the the the the the the\n",
      "the the \n"
     ]
    }
   ],
   "source": [
    "@torch.no_grad()\n",
    "def generate(model, idx, config, max_new_tokens, temperature=1.0, do_sample=False, top_k=None):\n",
    "    \"\"\"\n",
    "    Take a conditioning sequence of indices idx (LongTensor of shape (b,t)) and complete\n",
    "    the sequence max_new_tokens times, feeding the predictions back into the model each time.\n",
    "    Most likely you'll want to make sure to be in model.eval() mode of operation for this.\n",
    "    \"\"\"\n",
    "\n",
    "    model.eval()\n",
    "\n",
    "    for _ in range(max_new_tokens):\n",
    "        # if the sequence context is growing too long we must crop it at block_size\n",
    "        idx_cond = idx if idx.size(0) <= config.seq_len else idx[:, -config.seq_len :]\n",
    "        # forward the model to get the logits for the index in the sequence\n",
    "        logits = model(idx_cond)\n",
    "        # pluck the logits at the final step and scale by desired temperature\n",
    "        logits = logits[:, -1, :] / temperature\n",
    "        # optionally crop the logits to only the top k options\n",
    "        if top_k is not None:\n",
    "            v, _ = torch.topk(logits, top_k)\n",
    "            logits[logits < v[:, [-1]]] = -float(\"Inf\")\n",
    "        # apply softmax to convert logits to (normalized) probabilities\n",
    "        probs = F.softmax(logits, dim=-1)\n",
    "        # either sample from the distribution or take the most likely element\n",
    "        if do_sample:\n",
    "            idx_next = torch.multinomial(probs, num_samples=1)\n",
    "        else:\n",
    "            _, idx_next = torch.topk(probs, k=1, dim=-1)\n",
    "        # append sampled index to the running sequence and continue\n",
    "        idx = torch.cat((idx, idx_next), dim=1)\n",
    "    return idx\n",
    "\n",
    "output = generate(model, torch.tensor([tokenizer.encode(\"Hello there \")]), config, 64)\n",
    "print(output)\n",
    "text = tokenizer.decode(output.squeeze().tolist())\n",
    "print(text)"
   ]
  },
  {
   "cell_type": "code",
   "execution_count": null,
   "metadata": {},
   "outputs": [],
   "source": []
  },
  {
   "cell_type": "code",
   "execution_count": null,
   "metadata": {},
   "outputs": [],
   "source": []
  }
 ],
 "metadata": {
  "kernelspec": {
   "display_name": "Python 3.9.2 64-bit",
   "language": "python",
   "name": "python3"
  },
  "language_info": {
   "codemirror_mode": {
    "name": "ipython",
    "version": 3
   },
   "file_extension": ".py",
   "mimetype": "text/x-python",
   "name": "python",
   "nbconvert_exporter": "python",
   "pygments_lexer": "ipython3",
   "version": "3.9.2"
  },
  "orig_nbformat": 4,
  "vscode": {
   "interpreter": {
    "hash": "31f2aee4e71d21fbe5cf8b01ff0e069b9275f58929596ceb00d14d90e3e16cd6"
   }
  }
 },
 "nbformat": 4,
 "nbformat_minor": 2
}
