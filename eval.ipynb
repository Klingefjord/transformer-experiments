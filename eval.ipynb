{
 "cells": [
  {
   "cell_type": "code",
   "execution_count": 9,
   "metadata": {},
   "outputs": [],
   "source": [
    "import argparse\n",
    "from itertools import cycle\n",
    "import torch\n",
    "import typing\n",
    "import pandas as pd\n",
    "from torch.utils.data import DataLoader, Dataset, IterableDataset, random_split\n",
    "import numpy as np\n",
    "from encoder import Encoder, create_encoder\n",
    "from typing import Generator\n",
    "from model import GPTTransformer\n",
    "from utils import Config\n",
    "from data import prepare_data"
   ]
  },
  {
   "cell_type": "markdown",
   "metadata": {},
   "source": [
    "# Load Model"
   ]
  },
  {
   "cell_type": "code",
   "execution_count": 10,
   "metadata": {},
   "outputs": [],
   "source": [
    "config = Config(\n",
    "    epoch=10,\n",
    "    learning_rate=1e-3,\n",
    "    batch_size=128,\n",
    "    weight_decay=1e-5,\n",
    "    seq_len=128,\n",
    "    d_embed=64,\n",
    "    n_layers=6,\n",
    "    n_heads=8,\n",
    "    dropout=0.2,\n",
    ")\n",
    "\n",
    "_, _, vocab_size = prepare_data(\n",
    "    batch_size=config.batch_size,\n",
    "    seq_len=config.seq_len,\n",
    ")\n",
    "\n",
    "encoder = create_encoder(\"./data/pg16457.txt\", 1000)\n",
    "\n",
    "config.vocab_size = vocab_size\n",
    "\n",
    "model = GPTTransformer.load_from_checkpoint('./lightning_logs/version_0/checkpoints/epoch=9-step=550.ckpt', config=config)"
   ]
  },
  {
   "cell_type": "code",
   "execution_count": 90,
   "metadata": {},
   "outputs": [
    {
     "name": "stdout",
     "output_type": "stream",
     "text": [
      "torch.Size([128, 512])\n"
     ]
    }
   ],
   "source": [
    "@torch.no_grad()\n",
    "def greedy_decode(model, max_tokens, device):\n",
    "  idx = torch.tensor([[0]]).long().to(device)\n",
    "\n",
    "  model.eval()\n",
    "\n",
    "  for _ in range(max_tokens):\n",
    "    src_mask = torch.triu(torch.ones(idx.shape[-1], idx.shape[-1]) * float('-inf'), diagonal=1).to(device)\n",
    "    logits = model(idx, src_mask, None) # no padding token in inference mode.\n",
    "    next_token_logits = logits[:, -1, :]\n",
    "    probs = F.softmax(next_token_logits, dim=-1)\n",
    "    next_tokens = torch.multinomial(probs, num_samples=1)\n",
    "    idx = torch.cat((idx, next_tokens), dim=1)\n",
    "\n",
    "    if idx.squeeze()[-1] == 1 or idx.squeeze()[-1] == 2:\n",
    "      break\n",
    "  \n",
    "  if (idx.squeeze().numel() < 1):\n",
    "    return\n",
    "\n",
    "  idx = idx.squeeze()[1:] # trim away the <bos> token.\n",
    "  idx = idx.squeeze()[:-1] # trim away the <eos> token.\n",
    "  \n",
    "  print(''.join([itos[i] for i in idx.tolist()]))"
   ]
  }
 ],
 "metadata": {
  "kernelspec": {
   "display_name": "Python 3.9.2 64-bit",
   "language": "python",
   "name": "python3"
  },
  "language_info": {
   "codemirror_mode": {
    "name": "ipython",
    "version": 3
   },
   "file_extension": ".py",
   "mimetype": "text/x-python",
   "name": "python",
   "nbconvert_exporter": "python",
   "pygments_lexer": "ipython3",
   "version": "3.9.2"
  },
  "orig_nbformat": 4,
  "vscode": {
   "interpreter": {
    "hash": "31f2aee4e71d21fbe5cf8b01ff0e069b9275f58929596ceb00d14d90e3e16cd6"
   }
  }
 },
 "nbformat": 4,
 "nbformat_minor": 2
}
